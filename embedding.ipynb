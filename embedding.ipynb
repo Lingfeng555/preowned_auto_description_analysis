{
 "cells": [
  {
   "cell_type": "code",
   "execution_count": 1,
   "metadata": {},
   "outputs": [
    {
     "name": "stderr",
     "output_type": "stream",
     "text": [
      "c:\\Users\\lingf\\AppData\\Local\\Programs\\Python\\Python312\\Lib\\site-packages\\tqdm\\auto.py:21: TqdmWarning: IProgress not found. Please update jupyter and ipywidgets. See https://ipywidgets.readthedocs.io/en/stable/user_install.html\n",
      "  from .autonotebook import tqdm as notebook_tqdm\n"
     ]
    },
    {
     "name": "stdout",
     "output_type": "stream",
     "text": [
      "WARNING:tensorflow:From c:\\Users\\lingf\\AppData\\Local\\Programs\\Python\\Python312\\Lib\\site-packages\\tf_keras\\src\\losses.py:2976: The name tf.losses.sparse_softmax_cross_entropy is deprecated. Please use tf.compat.v1.losses.sparse_softmax_cross_entropy instead.\n",
      "\n"
     ]
    },
    {
     "name": "stderr",
     "output_type": "stream",
     "text": [
      "[nltk_data] Downloading package stopwords to\n",
      "[nltk_data]     C:\\Users\\lingf\\AppData\\Roaming\\nltk_data...\n",
      "[nltk_data]   Package stopwords is already up-to-date!\n"
     ]
    }
   ],
   "source": [
    "import sys\n",
    "sys.path.insert(1, '../') \n",
    "from utils.loader import Loader\n",
    "import tensorflow as tf\n",
    "import pandas as pd\n",
    "import numpy as np\n",
    "from gensim.models import Word2Vec\n",
    "import re\n",
    "from sklearn.model_selection import train_test_split\n",
    "from sklearn.preprocessing import StandardScaler\n",
    "from tensorflow.keras.models import Sequential, Model\n",
    "from tensorflow.keras.layers import Dense, Dropout, Embedding, Flatten, Input\n",
    "from tensorflow.keras import regularizers\n",
    "import nltk\n",
    "from nltk.corpus import stopwords\n",
    "import matplotlib.pyplot as plt\n",
    "from transformers import TFBartForConditionalGeneration, BartTokenizer\n",
    "\n",
    "# Descargar la lista de stopwords si no está ya descargada\n",
    "nltk.download('stopwords')\n",
    "\n",
    "# Cargar las stopwords en español\n",
    "spanish_stopwords = set(stopwords.words('spanish'))"
   ]
  },
  {
   "cell_type": "code",
   "execution_count": 2,
   "metadata": {},
   "outputs": [
    {
     "name": "stderr",
     "output_type": "stream",
     "text": [
      "c:\\Users\\lingf\\OneDrive\\Escritorio\\SRC\\Cars_Price_Prediction-1\\NLP\\..\\utils\\loader.py:97: DtypeWarning: Columns (125,146) have mixed types. Specify dtype option on import or set low_memory=False.\n",
      "  df = pd.read_csv(file_path,\n",
      "c:\\Users\\lingf\\OneDrive\\Escritorio\\SRC\\Cars_Price_Prediction-1\\NLP\\..\\utils\\loader.py:97: DtypeWarning: Columns (146) have mixed types. Specify dtype option on import or set low_memory=False.\n",
      "  df = pd.read_csv(file_path,\n",
      "c:\\Users\\lingf\\OneDrive\\Escritorio\\SRC\\Cars_Price_Prediction-1\\NLP\\..\\utils\\loader.py:97: DtypeWarning: Columns (129,146) have mixed types. Specify dtype option on import or set low_memory=False.\n",
      "  df = pd.read_csv(file_path,\n",
      "c:\\Users\\lingf\\OneDrive\\Escritorio\\SRC\\Cars_Price_Prediction-1\\NLP\\..\\utils\\loader.py:97: DtypeWarning: Columns (146) have mixed types. Specify dtype option on import or set low_memory=False.\n",
      "  df = pd.read_csv(file_path,\n",
      "c:\\Users\\lingf\\OneDrive\\Escritorio\\SRC\\Cars_Price_Prediction-1\\NLP\\..\\utils\\loader.py:97: DtypeWarning: Columns (125,146) have mixed types. Specify dtype option on import or set low_memory=False.\n",
      "  df = pd.read_csv(file_path,\n",
      "c:\\Users\\lingf\\OneDrive\\Escritorio\\SRC\\Cars_Price_Prediction-1\\NLP\\..\\utils\\loader.py:97: DtypeWarning: Columns (125) have mixed types. Specify dtype option on import or set low_memory=False.\n",
      "  df = pd.read_csv(file_path,\n"
     ]
    }
   ],
   "source": [
    "train = Loader.load_train()"
   ]
  },
  {
   "cell_type": "code",
   "execution_count": 3,
   "metadata": {},
   "outputs": [
    {
     "name": "stdout",
     "output_type": "stream",
     "text": [
      "['motor_description', 'transmission_description', 'parking_sensors_description', 'Exterior_Llantas_description', 'Exterior_Molduras_description', 'Exterior_Neumáticos_description', 'Exterior_Puerta_description', 'Exterior_Retrovisor_description', 'Confort_Volante_description', 'seat_description', 'head_supporter_description']\n"
     ]
    }
   ],
   "source": [
    "descriptions = [col for col in train.columns if \"description\" in col]\n",
    "\n",
    "print(descriptions)\n",
    "\n",
    "def custom_concat(row, cols):\n",
    "    # Construir la descripción con lógica condicional basada en el valor de la celda\n",
    "    parts = []\n",
    "    for col_name in cols:  # Cambio para iterar solo sobre las columnas especificadas\n",
    "        if col_name in row.index:  # Verificar que el nombre de la columna esté en el DataFrame\n",
    "            value = row[col_name]\n",
    "            if value == \"no tiene\" or not isinstance(value, str):\n",
    "                parts.append(f\"no tiene {col_name}\")\n",
    "            else:\n",
    "                parts.append(str(value))  # Convertir a string para evitar problemas al unir\n",
    "    # Unir todas las partes con espacios\n",
    "    return ' '.join(parts)\n",
    "\n",
    "# Aplicar la función al DataFrame\n",
    "train['full_description'] = train.apply(custom_concat, axis=1, args=(descriptions,))\n",
    "#train[descriptions].apply(lambda col: col.apply(lambda x: type(x).__name__).value_counts())\n",
    "\n",
    "#descriptions.append(\"idx\")\n",
    "#descriptions.append(\"price\")\n",
    "#descriptions.append(\"km\")"
   ]
  },
  {
   "cell_type": "code",
   "execution_count": 4,
   "metadata": {},
   "outputs": [
    {
     "data": {
      "text/html": [
       "<div>\n",
       "<style scoped>\n",
       "    .dataframe tbody tr th:only-of-type {\n",
       "        vertical-align: middle;\n",
       "    }\n",
       "\n",
       "    .dataframe tbody tr th {\n",
       "        vertical-align: top;\n",
       "    }\n",
       "\n",
       "    .dataframe thead th {\n",
       "        text-align: right;\n",
       "    }\n",
       "</style>\n",
       "<table border=\"1\" class=\"dataframe\">\n",
       "  <thead>\n",
       "    <tr style=\"text-align: right;\">\n",
       "      <th></th>\n",
       "      <th>idx</th>\n",
       "      <th>price</th>\n",
       "      <th>km</th>\n",
       "      <th>fuelType</th>\n",
       "      <th>full_description</th>\n",
       "      <th>price_per_kilometer</th>\n",
       "    </tr>\n",
       "  </thead>\n",
       "  <tbody>\n",
       "    <tr>\n",
       "      <th>0</th>\n",
       "      <td>105953</td>\n",
       "      <td>-0.077067</td>\n",
       "      <td>-0.270171</td>\n",
       "      <td>Gasolina</td>\n",
       "      <td>Motor de 1,3 litros ( 1.332 cc ) , cuatro cili...</td>\n",
       "      <td>0.285252</td>\n",
       "    </tr>\n",
       "    <tr>\n",
       "      <th>1</th>\n",
       "      <td>15683</td>\n",
       "      <td>-0.193101</td>\n",
       "      <td>0.313987</td>\n",
       "      <td>Diésel</td>\n",
       "      <td>Motor de 2,0 litros ( 1.969 cc ) , cuatro cili...</td>\n",
       "      <td>-0.614996</td>\n",
       "    </tr>\n",
       "    <tr>\n",
       "      <th>2</th>\n",
       "      <td>153684</td>\n",
       "      <td>-0.308670</td>\n",
       "      <td>0.483472</td>\n",
       "      <td>Diésel</td>\n",
       "      <td>Motor de 1,6 litros ( 1.560 cc ) , cuatro cili...</td>\n",
       "      <td>-0.638445</td>\n",
       "    </tr>\n",
       "    <tr>\n",
       "      <th>3</th>\n",
       "      <td>156928</td>\n",
       "      <td>-0.058037</td>\n",
       "      <td>-0.490595</td>\n",
       "      <td>Híbrido</td>\n",
       "      <td>Motor de 1,8 litros ( 1.798 cc ) , cuatro cili...</td>\n",
       "      <td>0.118300</td>\n",
       "    </tr>\n",
       "    <tr>\n",
       "      <th>4</th>\n",
       "      <td>24443</td>\n",
       "      <td>-0.935252</td>\n",
       "      <td>2.164942</td>\n",
       "      <td>Diésel</td>\n",
       "      <td>Motor de 1,9 litros ( 1.910 cc ) , 4 cilindros...</td>\n",
       "      <td>-0.431999</td>\n",
       "    </tr>\n",
       "    <tr>\n",
       "      <th>...</th>\n",
       "      <td>...</td>\n",
       "      <td>...</td>\n",
       "      <td>...</td>\n",
       "      <td>...</td>\n",
       "      <td>...</td>\n",
       "      <td>...</td>\n",
       "    </tr>\n",
       "    <tr>\n",
       "      <th>115592</th>\n",
       "      <td>19845</td>\n",
       "      <td>-0.058037</td>\n",
       "      <td>-0.163500</td>\n",
       "      <td>Diésel</td>\n",
       "      <td>Motor de 1,6 litros ( 1.598 cc ) , cuatro cili...</td>\n",
       "      <td>0.354967</td>\n",
       "    </tr>\n",
       "    <tr>\n",
       "      <th>115593</th>\n",
       "      <td>102652</td>\n",
       "      <td>-0.889071</td>\n",
       "      <td>0.802049</td>\n",
       "      <td>Gasolina</td>\n",
       "      <td>Motor de 2,0 litros ( 1.997 cc ) , 4 cilindros...</td>\n",
       "      <td>-1.108500</td>\n",
       "    </tr>\n",
       "    <tr>\n",
       "      <th>115594</th>\n",
       "      <td>101658</td>\n",
       "      <td>-0.309134</td>\n",
       "      <td>0.461325</td>\n",
       "      <td>Gas natural (CNG)</td>\n",
       "      <td>Motor de 1,4 litros ( 1.395 cc ) , cuatro cili...</td>\n",
       "      <td>-0.670101</td>\n",
       "    </tr>\n",
       "    <tr>\n",
       "      <th>115595</th>\n",
       "      <td>69350</td>\n",
       "      <td>-0.199598</td>\n",
       "      <td>0.735851</td>\n",
       "      <td>Diésel</td>\n",
       "      <td>Motor de 2,2 litros ( 2.191 cc ) , cuatro cili...</td>\n",
       "      <td>-0.271249</td>\n",
       "    </tr>\n",
       "    <tr>\n",
       "      <th>115596</th>\n",
       "      <td>13515</td>\n",
       "      <td>1.663857</td>\n",
       "      <td>0.205783</td>\n",
       "      <td>Diésel</td>\n",
       "      <td>Motor de 3,0 litros ( 2.987 cc ) , seis cilind...</td>\n",
       "      <td>8.085504</td>\n",
       "    </tr>\n",
       "  </tbody>\n",
       "</table>\n",
       "<p>110395 rows × 6 columns</p>\n",
       "</div>"
      ],
      "text/plain": [
       "           idx     price        km           fuelType  \\\n",
       "0       105953 -0.077067 -0.270171           Gasolina   \n",
       "1        15683 -0.193101  0.313987             Diésel   \n",
       "2       153684 -0.308670  0.483472             Diésel   \n",
       "3       156928 -0.058037 -0.490595            Híbrido   \n",
       "4        24443 -0.935252  2.164942             Diésel   \n",
       "...        ...       ...       ...                ...   \n",
       "115592   19845 -0.058037 -0.163500             Diésel   \n",
       "115593  102652 -0.889071  0.802049           Gasolina   \n",
       "115594  101658 -0.309134  0.461325  Gas natural (CNG)   \n",
       "115595   69350 -0.199598  0.735851             Diésel   \n",
       "115596   13515  1.663857  0.205783             Diésel   \n",
       "\n",
       "                                         full_description  price_per_kilometer  \n",
       "0       Motor de 1,3 litros ( 1.332 cc ) , cuatro cili...             0.285252  \n",
       "1       Motor de 2,0 litros ( 1.969 cc ) , cuatro cili...            -0.614996  \n",
       "2       Motor de 1,6 litros ( 1.560 cc ) , cuatro cili...            -0.638445  \n",
       "3       Motor de 1,8 litros ( 1.798 cc ) , cuatro cili...             0.118300  \n",
       "4       Motor de 1,9 litros ( 1.910 cc ) , 4 cilindros...            -0.431999  \n",
       "...                                                   ...                  ...  \n",
       "115592  Motor de 1,6 litros ( 1.598 cc ) , cuatro cili...             0.354967  \n",
       "115593  Motor de 2,0 litros ( 1.997 cc ) , 4 cilindros...            -1.108500  \n",
       "115594  Motor de 1,4 litros ( 1.395 cc ) , cuatro cili...            -0.670101  \n",
       "115595  Motor de 2,2 litros ( 2.191 cc ) , cuatro cili...            -0.271249  \n",
       "115596  Motor de 3,0 litros ( 2.987 cc ) , seis cilind...             8.085504  \n",
       "\n",
       "[110395 rows x 6 columns]"
      ]
     },
     "execution_count": 4,
     "metadata": {},
     "output_type": "execute_result"
    }
   ],
   "source": [
    "filtered_columns = [\"idx\", \"price\", \"km\", \"fuelType\", \"full_description\"]\n",
    "train = train[filtered_columns]\n",
    "train[\"price_per_kilometer\"] = train[\"price\"]/train[\"km\"]\n",
    "train.dropna(inplace=True)\n",
    "train"
   ]
  },
  {
   "cell_type": "code",
   "execution_count": 5,
   "metadata": {},
   "outputs": [],
   "source": [
    "#Parameters\n",
    "verb_size = 200"
   ]
  },
  {
   "cell_type": "code",
   "execution_count": 6,
   "metadata": {},
   "outputs": [],
   "source": [
    "def preprocess_text(text):\n",
    "    # Convertir a minúsculas y eliminar caracteres especiales (pero mantener los números)\n",
    "    text = text.lower()\n",
    "    text = re.sub(r'[^\\w\\s\\d]', '', text)  # Eliminar signos de puntuación, pero mantener números\n",
    "    tokens = text.split()\n",
    "    \n",
    "    # Filtrar tokens, eliminando las stopwords\n",
    "    filtered_tokens = [token for token in tokens if token not in spanish_stopwords]\n",
    "    \n",
    "    return filtered_tokens\n",
    "\n",
    "train['tokens'] = train['full_description'].apply(preprocess_text)\n",
    "model_w2v = Word2Vec(sentences=train['tokens'], vector_size=verb_size, window=1, min_count=3, workers=8)\n",
    "word_vectors = model_w2v.wv\n",
    "\n",
    "def get_average_embedding(tokens, model):\n",
    "    embeddings = [model[word] for word in tokens if word in model]\n",
    "    if embeddings:\n",
    "        return np.mean(embeddings, axis=0)\n",
    "    else:\n",
    "        return np.zeros(model.vector_size) \n",
    "train['embedding'] = train['tokens'].apply(lambda x: get_average_embedding(x, word_vectors))"
   ]
  },
  {
   "cell_type": "code",
   "execution_count": 7,
   "metadata": {},
   "outputs": [
    {
     "data": {
      "text/html": [
       "<div>\n",
       "<style scoped>\n",
       "    .dataframe tbody tr th:only-of-type {\n",
       "        vertical-align: middle;\n",
       "    }\n",
       "\n",
       "    .dataframe tbody tr th {\n",
       "        vertical-align: top;\n",
       "    }\n",
       "\n",
       "    .dataframe thead th {\n",
       "        text-align: right;\n",
       "    }\n",
       "</style>\n",
       "<table border=\"1\" class=\"dataframe\">\n",
       "  <thead>\n",
       "    <tr style=\"text-align: right;\">\n",
       "      <th></th>\n",
       "      <th>idx</th>\n",
       "      <th>price</th>\n",
       "      <th>km</th>\n",
       "      <th>fuelType</th>\n",
       "      <th>full_description</th>\n",
       "      <th>price_per_kilometer</th>\n",
       "      <th>tokens</th>\n",
       "      <th>embedding</th>\n",
       "    </tr>\n",
       "  </thead>\n",
       "  <tbody>\n",
       "    <tr>\n",
       "      <th>2242</th>\n",
       "      <td>92306</td>\n",
       "      <td>-0.475759</td>\n",
       "      <td>-0.715314</td>\n",
       "      <td>Híbrido</td>\n",
       "      <td>Motor de 1,0 litros ( 999 cc ) , tres cilindro...</td>\n",
       "      <td>0.665105</td>\n",
       "      <td>[motor, 10, litros, 999, cc, tres, cilindros, ...</td>\n",
       "      <td>[-0.16160361, -0.10009166, -0.32464033, 0.2198...</td>\n",
       "    </tr>\n",
       "    <tr>\n",
       "      <th>27893</th>\n",
       "      <td>87882</td>\n",
       "      <td>-0.877236</td>\n",
       "      <td>1.434820</td>\n",
       "      <td>Diésel</td>\n",
       "      <td>Motor de 2 litros ( 1.991 cc ) , 4 cilindros e...</td>\n",
       "      <td>-0.611391</td>\n",
       "      <td>[motor, 2, litros, 1991, cc, 4, cilindros, lín...</td>\n",
       "      <td>[-0.24790601, -0.07314416, -0.40247717, 0.2772...</td>\n",
       "    </tr>\n",
       "    <tr>\n",
       "      <th>87329</th>\n",
       "      <td>83668</td>\n",
       "      <td>0.405634</td>\n",
       "      <td>-0.924968</td>\n",
       "      <td>Híbrido enchufable</td>\n",
       "      <td>Motor de 2,5 litros ( 2.488 cc ) , cuatro cili...</td>\n",
       "      <td>-0.438538</td>\n",
       "      <td>[motor, 25, litros, 2488, cc, cuatro, cilindro...</td>\n",
       "      <td>[-0.19034052, -0.012140048, -0.25362855, 0.353...</td>\n",
       "    </tr>\n",
       "    <tr>\n",
       "      <th>37341</th>\n",
       "      <td>79319</td>\n",
       "      <td>0.498925</td>\n",
       "      <td>-0.180877</td>\n",
       "      <td>Diésel</td>\n",
       "      <td>Motor de 2,0 litros ( 1.995 cc ) , cuatro cili...</td>\n",
       "      <td>-2.758359</td>\n",
       "      <td>[motor, 20, litros, 1995, cc, cuatro, cilindro...</td>\n",
       "      <td>[-0.07045267, -0.051588427, -0.22068815, 0.206...</td>\n",
       "    </tr>\n",
       "    <tr>\n",
       "      <th>83683</th>\n",
       "      <td>89910</td>\n",
       "      <td>-0.240906</td>\n",
       "      <td>-0.126775</td>\n",
       "      <td>Híbrido enchufable</td>\n",
       "      <td>Motor de 1,6 litros ( 1.580 cc ) , cuatro cili...</td>\n",
       "      <td>1.900263</td>\n",
       "      <td>[motor, 16, litros, 1580, cc, cuatro, cilindro...</td>\n",
       "      <td>[-0.17331654, -0.014630872, -0.30179378, 0.264...</td>\n",
       "    </tr>\n",
       "  </tbody>\n",
       "</table>\n",
       "</div>"
      ],
      "text/plain": [
       "         idx     price        km            fuelType  \\\n",
       "2242   92306 -0.475759 -0.715314             Híbrido   \n",
       "27893  87882 -0.877236  1.434820              Diésel   \n",
       "87329  83668  0.405634 -0.924968  Híbrido enchufable   \n",
       "37341  79319  0.498925 -0.180877              Diésel   \n",
       "83683  89910 -0.240906 -0.126775  Híbrido enchufable   \n",
       "\n",
       "                                        full_description  price_per_kilometer  \\\n",
       "2242   Motor de 1,0 litros ( 999 cc ) , tres cilindro...             0.665105   \n",
       "27893  Motor de 2 litros ( 1.991 cc ) , 4 cilindros e...            -0.611391   \n",
       "87329  Motor de 2,5 litros ( 2.488 cc ) , cuatro cili...            -0.438538   \n",
       "37341  Motor de 2,0 litros ( 1.995 cc ) , cuatro cili...            -2.758359   \n",
       "83683  Motor de 1,6 litros ( 1.580 cc ) , cuatro cili...             1.900263   \n",
       "\n",
       "                                                  tokens  \\\n",
       "2242   [motor, 10, litros, 999, cc, tres, cilindros, ...   \n",
       "27893  [motor, 2, litros, 1991, cc, 4, cilindros, lín...   \n",
       "87329  [motor, 25, litros, 2488, cc, cuatro, cilindro...   \n",
       "37341  [motor, 20, litros, 1995, cc, cuatro, cilindro...   \n",
       "83683  [motor, 16, litros, 1580, cc, cuatro, cilindro...   \n",
       "\n",
       "                                               embedding  \n",
       "2242   [-0.16160361, -0.10009166, -0.32464033, 0.2198...  \n",
       "27893  [-0.24790601, -0.07314416, -0.40247717, 0.2772...  \n",
       "87329  [-0.19034052, -0.012140048, -0.25362855, 0.353...  \n",
       "37341  [-0.07045267, -0.051588427, -0.22068815, 0.206...  \n",
       "83683  [-0.17331654, -0.014630872, -0.30179378, 0.264...  "
      ]
     },
     "execution_count": 7,
     "metadata": {},
     "output_type": "execute_result"
    }
   ],
   "source": [
    "train_df, test_df = train_test_split(train, test_size=0.2, random_state=42, stratify=train['fuelType'])\n",
    "train_df.head()"
   ]
  },
  {
   "cell_type": "code",
   "execution_count": 12,
   "metadata": {},
   "outputs": [
    {
     "name": "stderr",
     "output_type": "stream",
     "text": [
      "All model checkpoint layers were used when initializing TFBartForConditionalGeneration.\n",
      "\n",
      "All the layers of TFBartForConditionalGeneration were initialized from the model checkpoint at facebook/bart-large.\n",
      "If your task is similar to the task the model of the checkpoint was trained on, you can already use TFBartForConditionalGeneration for predictions without further training.\n"
     ]
    },
    {
     "ename": "KeyError",
     "evalue": "'full description'",
     "output_type": "error",
     "traceback": [
      "\u001b[1;31m---------------------------------------------------------------------------\u001b[0m",
      "\u001b[1;31mKeyError\u001b[0m                                  Traceback (most recent call last)",
      "File \u001b[1;32mc:\\Users\\lingf\\AppData\\Local\\Programs\\Python\\Python312\\Lib\\site-packages\\pandas\\core\\indexes\\base.py:3805\u001b[0m, in \u001b[0;36mIndex.get_loc\u001b[1;34m(self, key)\u001b[0m\n\u001b[0;32m   3804\u001b[0m \u001b[38;5;28;01mtry\u001b[39;00m:\n\u001b[1;32m-> 3805\u001b[0m     \u001b[38;5;28;01mreturn\u001b[39;00m \u001b[38;5;28;43mself\u001b[39;49m\u001b[38;5;241;43m.\u001b[39;49m\u001b[43m_engine\u001b[49m\u001b[38;5;241;43m.\u001b[39;49m\u001b[43mget_loc\u001b[49m\u001b[43m(\u001b[49m\u001b[43mcasted_key\u001b[49m\u001b[43m)\u001b[49m\n\u001b[0;32m   3806\u001b[0m \u001b[38;5;28;01mexcept\u001b[39;00m \u001b[38;5;167;01mKeyError\u001b[39;00m \u001b[38;5;28;01mas\u001b[39;00m err:\n",
      "File \u001b[1;32mindex.pyx:167\u001b[0m, in \u001b[0;36mpandas._libs.index.IndexEngine.get_loc\u001b[1;34m()\u001b[0m\n",
      "File \u001b[1;32mindex.pyx:196\u001b[0m, in \u001b[0;36mpandas._libs.index.IndexEngine.get_loc\u001b[1;34m()\u001b[0m\n",
      "File \u001b[1;32mpandas\\\\_libs\\\\hashtable_class_helper.pxi:7081\u001b[0m, in \u001b[0;36mpandas._libs.hashtable.PyObjectHashTable.get_item\u001b[1;34m()\u001b[0m\n",
      "File \u001b[1;32mpandas\\\\_libs\\\\hashtable_class_helper.pxi:7089\u001b[0m, in \u001b[0;36mpandas._libs.hashtable.PyObjectHashTable.get_item\u001b[1;34m()\u001b[0m\n",
      "\u001b[1;31mKeyError\u001b[0m: 'full description'",
      "\nThe above exception was the direct cause of the following exception:\n",
      "\u001b[1;31mKeyError\u001b[0m                                  Traceback (most recent call last)",
      "Cell \u001b[1;32mIn[12], line 5\u001b[0m\n\u001b[0;32m      2\u001b[0m bart_model \u001b[38;5;241m=\u001b[39m TFBartForConditionalGeneration\u001b[38;5;241m.\u001b[39mfrom_pretrained(\u001b[38;5;124m'\u001b[39m\u001b[38;5;124mfacebook/bart-large\u001b[39m\u001b[38;5;124m'\u001b[39m)\n\u001b[0;32m      4\u001b[0m \u001b[38;5;66;03m# Tokenizar la columna 'full description'\u001b[39;00m\n\u001b[1;32m----> 5\u001b[0m tokens \u001b[38;5;241m=\u001b[39m tokenizer(\u001b[43mtrain\u001b[49m\u001b[43m[\u001b[49m\u001b[38;5;124;43m'\u001b[39;49m\u001b[38;5;124;43mfull description\u001b[39;49m\u001b[38;5;124;43m'\u001b[39;49m\u001b[43m]\u001b[49m\u001b[38;5;241m.\u001b[39mtolist(), return_tensors\u001b[38;5;241m=\u001b[39m\u001b[38;5;124m'\u001b[39m\u001b[38;5;124mtf\u001b[39m\u001b[38;5;124m'\u001b[39m, max_length\u001b[38;5;241m=\u001b[39m\u001b[38;5;241m512\u001b[39m, truncation\u001b[38;5;241m=\u001b[39m\u001b[38;5;28;01mTrue\u001b[39;00m, padding\u001b[38;5;241m=\u001b[39m\u001b[38;5;124m'\u001b[39m\u001b[38;5;124mmax_length\u001b[39m\u001b[38;5;124m'\u001b[39m)\n\u001b[0;32m      7\u001b[0m \u001b[38;5;66;03m# Extraer los input_ids que son necesarios para el modelo\u001b[39;00m\n\u001b[0;32m      8\u001b[0m input_ids \u001b[38;5;241m=\u001b[39m tokens[\u001b[38;5;124m'\u001b[39m\u001b[38;5;124minput_ids\u001b[39m\u001b[38;5;124m'\u001b[39m]\n",
      "File \u001b[1;32mc:\\Users\\lingf\\AppData\\Local\\Programs\\Python\\Python312\\Lib\\site-packages\\pandas\\core\\frame.py:4102\u001b[0m, in \u001b[0;36mDataFrame.__getitem__\u001b[1;34m(self, key)\u001b[0m\n\u001b[0;32m   4100\u001b[0m \u001b[38;5;28;01mif\u001b[39;00m \u001b[38;5;28mself\u001b[39m\u001b[38;5;241m.\u001b[39mcolumns\u001b[38;5;241m.\u001b[39mnlevels \u001b[38;5;241m>\u001b[39m \u001b[38;5;241m1\u001b[39m:\n\u001b[0;32m   4101\u001b[0m     \u001b[38;5;28;01mreturn\u001b[39;00m \u001b[38;5;28mself\u001b[39m\u001b[38;5;241m.\u001b[39m_getitem_multilevel(key)\n\u001b[1;32m-> 4102\u001b[0m indexer \u001b[38;5;241m=\u001b[39m \u001b[38;5;28;43mself\u001b[39;49m\u001b[38;5;241;43m.\u001b[39;49m\u001b[43mcolumns\u001b[49m\u001b[38;5;241;43m.\u001b[39;49m\u001b[43mget_loc\u001b[49m\u001b[43m(\u001b[49m\u001b[43mkey\u001b[49m\u001b[43m)\u001b[49m\n\u001b[0;32m   4103\u001b[0m \u001b[38;5;28;01mif\u001b[39;00m is_integer(indexer):\n\u001b[0;32m   4104\u001b[0m     indexer \u001b[38;5;241m=\u001b[39m [indexer]\n",
      "File \u001b[1;32mc:\\Users\\lingf\\AppData\\Local\\Programs\\Python\\Python312\\Lib\\site-packages\\pandas\\core\\indexes\\base.py:3812\u001b[0m, in \u001b[0;36mIndex.get_loc\u001b[1;34m(self, key)\u001b[0m\n\u001b[0;32m   3807\u001b[0m     \u001b[38;5;28;01mif\u001b[39;00m \u001b[38;5;28misinstance\u001b[39m(casted_key, \u001b[38;5;28mslice\u001b[39m) \u001b[38;5;129;01mor\u001b[39;00m (\n\u001b[0;32m   3808\u001b[0m         \u001b[38;5;28misinstance\u001b[39m(casted_key, abc\u001b[38;5;241m.\u001b[39mIterable)\n\u001b[0;32m   3809\u001b[0m         \u001b[38;5;129;01mand\u001b[39;00m \u001b[38;5;28many\u001b[39m(\u001b[38;5;28misinstance\u001b[39m(x, \u001b[38;5;28mslice\u001b[39m) \u001b[38;5;28;01mfor\u001b[39;00m x \u001b[38;5;129;01min\u001b[39;00m casted_key)\n\u001b[0;32m   3810\u001b[0m     ):\n\u001b[0;32m   3811\u001b[0m         \u001b[38;5;28;01mraise\u001b[39;00m InvalidIndexError(key)\n\u001b[1;32m-> 3812\u001b[0m     \u001b[38;5;28;01mraise\u001b[39;00m \u001b[38;5;167;01mKeyError\u001b[39;00m(key) \u001b[38;5;28;01mfrom\u001b[39;00m \u001b[38;5;21;01merr\u001b[39;00m\n\u001b[0;32m   3813\u001b[0m \u001b[38;5;28;01mexcept\u001b[39;00m \u001b[38;5;167;01mTypeError\u001b[39;00m:\n\u001b[0;32m   3814\u001b[0m     \u001b[38;5;66;03m# If we have a listlike key, _check_indexing_error will raise\u001b[39;00m\n\u001b[0;32m   3815\u001b[0m     \u001b[38;5;66;03m#  InvalidIndexError. Otherwise we fall through and re-raise\u001b[39;00m\n\u001b[0;32m   3816\u001b[0m     \u001b[38;5;66;03m#  the TypeError.\u001b[39;00m\n\u001b[0;32m   3817\u001b[0m     \u001b[38;5;28mself\u001b[39m\u001b[38;5;241m.\u001b[39m_check_indexing_error(key)\n",
      "\u001b[1;31mKeyError\u001b[0m: 'full description'"
     ]
    }
   ],
   "source": [
    "tokenizer = BartTokenizer.from_pretrained('facebook/bart-large')\n",
    "bart_model = TFBartForConditionalGeneration.from_pretrained('facebook/bart-large')\n",
    "\n",
    "# Tokenizar la columna 'full description'\n",
    "tokens = tokenizer(train['full_description'].tolist(), return_tensors='tf', max_length=512, truncation=True, padding='max_length')\n",
    "\n",
    "# Extraer los input_ids que son necesarios para el modelo\n",
    "input_ids = tokens['input_ids']\n",
    "\n",
    "# Si estás utilizando los embeddings directamente, puedes seguir este paso\n",
    "# De lo contrario, si necesitas procesar los embeddings, asegúrate de que estén en formato adecuado antes de continuar\n",
    "tensor_embeddings = tf.convert_to_tensor(train['embedding'], dtype=tf.float32)\n",
    "\n",
    "# Compilar el modelo con la configuración deseada\n",
    "bart_model.compile(optimizer='adam', loss='sparse_categorical_crossentropy')\n",
    "\n",
    "# Entrenar el modelo\n",
    "bart_model.fit(x=input_ids, y=tensor_embeddings, epochs=3, batch_size=8)"
   ]
  },
  {
   "cell_type": "code",
   "execution_count": 48,
   "metadata": {},
   "outputs": [
    {
     "name": "stderr",
     "output_type": "stream",
     "text": [
      "c:\\Users\\lingf\\AppData\\Local\\Programs\\Python\\Python312\\Lib\\site-packages\\keras\\src\\layers\\core\\dense.py:87: UserWarning: Do not pass an `input_shape`/`input_dim` argument to a layer. When using Sequential models, prefer using an `Input(shape)` object as the first layer in the model instead.\n",
      "  super().__init__(activity_regularizer=activity_regularizer, **kwargs)\n"
     ]
    }
   ],
   "source": [
    "model = tf.keras.Sequential([\n",
    "    tf.keras.layers.Dense(units=100, input_shape=[verb_size],\n",
    "                          kernel_regularizer=regularizers.l2(0.001)\n",
    "                          ),\n",
    "    tf.keras.layers.BatchNormalization(),\n",
    "    tf.keras.layers.Dense(units=64 , activation='relu',\n",
    "                          kernel_regularizer=regularizers.l2(0.001)\n",
    "                          ),\n",
    "    tf.keras.layers.BatchNormalization(),\n",
    "    tf.keras.layers.Dense(units=32, activation='relu',\n",
    "                          kernel_regularizer=regularizers.l2(0.001)\n",
    "                          ),\n",
    "    tf.keras.layers.Dense(units=1, activation='softplus')\n",
    "    ])#output\n",
    "\n",
    "def custom_loss(y_true, y_pred):\n",
    "    # Penalizar mas los valores negativos\n",
    "    loss = tf.where(y_pred < 0, tf.square(y_pred - y_true) * 10, tf.square(y_pred - y_true))\n",
    "    return tf.reduce_mean(loss)\n",
    "\n",
    "model.compile(\n",
    "    optimizer = tf.keras.optimizers.Adam(0.01),\n",
    "    loss = custom_loss\n",
    ")"
   ]
  },
  {
   "cell_type": "code",
   "execution_count": 49,
   "metadata": {},
   "outputs": [],
   "source": [
    "x = np.stack(train_df[\"embedding\"].values)\n",
    "y = train_df['price'].to_numpy()\n",
    "\n",
    "scaler_x = StandardScaler()\n",
    "x_scaled = scaler_x.fit_transform(x)\n",
    "\n",
    "scaler_y = StandardScaler()\n",
    "y_scaled = scaler_y.fit_transform(y.reshape(-1, 1)).flatten()"
   ]
  },
  {
   "cell_type": "code",
   "execution_count": 50,
   "metadata": {},
   "outputs": [
    {
     "name": "stdout",
     "output_type": "stream",
     "text": [
      "COMIENZA EL ENTRENAMIENTO...\n",
      "Epoch 1/30\n",
      "\u001b[1m2760/2760\u001b[0m \u001b[32m━━━━━━━━━━━━━━━━━━━━\u001b[0m\u001b[37m\u001b[0m \u001b[1m3s\u001b[0m 682us/step - loss: 0.9117\n",
      "Epoch 2/30\n",
      "\u001b[1m2760/2760\u001b[0m \u001b[32m━━━━━━━━━━━━━━━━━━━━\u001b[0m\u001b[37m\u001b[0m \u001b[1m2s\u001b[0m 686us/step - loss: 0.5797\n",
      "Epoch 3/30\n",
      "\u001b[1m2760/2760\u001b[0m \u001b[32m━━━━━━━━━━━━━━━━━━━━\u001b[0m\u001b[37m\u001b[0m \u001b[1m2s\u001b[0m 692us/step - loss: 0.5451\n",
      "Epoch 4/30\n",
      "\u001b[1m2760/2760\u001b[0m \u001b[32m━━━━━━━━━━━━━━━━━━━━\u001b[0m\u001b[37m\u001b[0m \u001b[1m2s\u001b[0m 705us/step - loss: 0.4999\n",
      "Epoch 5/30\n",
      "\u001b[1m2760/2760\u001b[0m \u001b[32m━━━━━━━━━━━━━━━━━━━━\u001b[0m\u001b[37m\u001b[0m \u001b[1m2s\u001b[0m 683us/step - loss: 0.5146\n",
      "Epoch 6/30\n",
      "\u001b[1m2760/2760\u001b[0m \u001b[32m━━━━━━━━━━━━━━━━━━━━\u001b[0m\u001b[37m\u001b[0m \u001b[1m2s\u001b[0m 689us/step - loss: 0.5320\n",
      "Epoch 7/30\n",
      "\u001b[1m2760/2760\u001b[0m \u001b[32m━━━━━━━━━━━━━━━━━━━━\u001b[0m\u001b[37m\u001b[0m \u001b[1m2s\u001b[0m 712us/step - loss: 0.5370\n",
      "Epoch 8/30\n",
      "\u001b[1m2760/2760\u001b[0m \u001b[32m━━━━━━━━━━━━━━━━━━━━\u001b[0m\u001b[37m\u001b[0m \u001b[1m2s\u001b[0m 682us/step - loss: 0.5628\n",
      "Epoch 9/30\n",
      "\u001b[1m2760/2760\u001b[0m \u001b[32m━━━━━━━━━━━━━━━━━━━━\u001b[0m\u001b[37m\u001b[0m \u001b[1m2s\u001b[0m 692us/step - loss: 0.5087\n",
      "Epoch 10/30\n",
      "\u001b[1m2760/2760\u001b[0m \u001b[32m━━━━━━━━━━━━━━━━━━━━\u001b[0m\u001b[37m\u001b[0m \u001b[1m2s\u001b[0m 678us/step - loss: 0.5332\n",
      "Epoch 11/30\n",
      "\u001b[1m2760/2760\u001b[0m \u001b[32m━━━━━━━━━━━━━━━━━━━━\u001b[0m\u001b[37m\u001b[0m \u001b[1m2s\u001b[0m 674us/step - loss: 0.5645\n",
      "Epoch 12/30\n",
      "\u001b[1m2760/2760\u001b[0m \u001b[32m━━━━━━━━━━━━━━━━━━━━\u001b[0m\u001b[37m\u001b[0m \u001b[1m2s\u001b[0m 677us/step - loss: 0.5144\n",
      "Epoch 13/30\n",
      "\u001b[1m2760/2760\u001b[0m \u001b[32m━━━━━━━━━━━━━━━━━━━━\u001b[0m\u001b[37m\u001b[0m \u001b[1m2s\u001b[0m 681us/step - loss: 0.5174\n",
      "Epoch 14/30\n",
      "\u001b[1m2760/2760\u001b[0m \u001b[32m━━━━━━━━━━━━━━━━━━━━\u001b[0m\u001b[37m\u001b[0m \u001b[1m2s\u001b[0m 681us/step - loss: 0.5044\n",
      "Epoch 15/30\n",
      "\u001b[1m2760/2760\u001b[0m \u001b[32m━━━━━━━━━━━━━━━━━━━━\u001b[0m\u001b[37m\u001b[0m \u001b[1m2s\u001b[0m 677us/step - loss: 0.5100\n",
      "Epoch 16/30\n",
      "\u001b[1m2760/2760\u001b[0m \u001b[32m━━━━━━━━━━━━━━━━━━━━\u001b[0m\u001b[37m\u001b[0m \u001b[1m2s\u001b[0m 675us/step - loss: 0.5621\n",
      "Epoch 17/30\n",
      "\u001b[1m2760/2760\u001b[0m \u001b[32m━━━━━━━━━━━━━━━━━━━━\u001b[0m\u001b[37m\u001b[0m \u001b[1m2s\u001b[0m 678us/step - loss: 0.5127\n",
      "Epoch 18/30\n",
      "\u001b[1m2760/2760\u001b[0m \u001b[32m━━━━━━━━━━━━━━━━━━━━\u001b[0m\u001b[37m\u001b[0m \u001b[1m2s\u001b[0m 676us/step - loss: 0.5130\n",
      "Epoch 19/30\n",
      "\u001b[1m2760/2760\u001b[0m \u001b[32m━━━━━━━━━━━━━━━━━━━━\u001b[0m\u001b[37m\u001b[0m \u001b[1m2s\u001b[0m 678us/step - loss: 0.5198\n",
      "Epoch 20/30\n",
      "\u001b[1m2760/2760\u001b[0m \u001b[32m━━━━━━━━━━━━━━━━━━━━\u001b[0m\u001b[37m\u001b[0m \u001b[1m2s\u001b[0m 678us/step - loss: 0.5081\n",
      "Epoch 21/30\n",
      "\u001b[1m2760/2760\u001b[0m \u001b[32m━━━━━━━━━━━━━━━━━━━━\u001b[0m\u001b[37m\u001b[0m \u001b[1m2s\u001b[0m 701us/step - loss: 0.5327\n",
      "Epoch 22/30\n",
      "\u001b[1m2760/2760\u001b[0m \u001b[32m━━━━━━━━━━━━━━━━━━━━\u001b[0m\u001b[37m\u001b[0m \u001b[1m2s\u001b[0m 683us/step - loss: 0.5495\n",
      "Epoch 23/30\n",
      "\u001b[1m2760/2760\u001b[0m \u001b[32m━━━━━━━━━━━━━━━━━━━━\u001b[0m\u001b[37m\u001b[0m \u001b[1m2s\u001b[0m 682us/step - loss: 0.5527\n",
      "Epoch 24/30\n",
      "\u001b[1m2760/2760\u001b[0m \u001b[32m━━━━━━━━━━━━━━━━━━━━\u001b[0m\u001b[37m\u001b[0m \u001b[1m2s\u001b[0m 686us/step - loss: 0.5542\n",
      "Epoch 25/30\n",
      "\u001b[1m2760/2760\u001b[0m \u001b[32m━━━━━━━━━━━━━━━━━━━━\u001b[0m\u001b[37m\u001b[0m \u001b[1m2s\u001b[0m 694us/step - loss: 0.5070\n",
      "Epoch 26/30\n",
      "\u001b[1m2760/2760\u001b[0m \u001b[32m━━━━━━━━━━━━━━━━━━━━\u001b[0m\u001b[37m\u001b[0m \u001b[1m2s\u001b[0m 689us/step - loss: 0.5156\n",
      "Epoch 27/30\n",
      "\u001b[1m2760/2760\u001b[0m \u001b[32m━━━━━━━━━━━━━━━━━━━━\u001b[0m\u001b[37m\u001b[0m \u001b[1m2s\u001b[0m 690us/step - loss: 0.4882\n",
      "Epoch 28/30\n",
      "\u001b[1m2760/2760\u001b[0m \u001b[32m━━━━━━━━━━━━━━━━━━━━\u001b[0m\u001b[37m\u001b[0m \u001b[1m2s\u001b[0m 684us/step - loss: 0.5325\n",
      "Epoch 29/30\n",
      "\u001b[1m2760/2760\u001b[0m \u001b[32m━━━━━━━━━━━━━━━━━━━━\u001b[0m\u001b[37m\u001b[0m \u001b[1m2s\u001b[0m 690us/step - loss: 0.5014\n",
      "Epoch 30/30\n",
      "\u001b[1m2760/2760\u001b[0m \u001b[32m━━━━━━━━━━━━━━━━━━━━\u001b[0m\u001b[37m\u001b[0m \u001b[1m2s\u001b[0m 692us/step - loss: 0.5048\n",
      "TERMINA EL ENTRENAMIENTO...\n"
     ]
    }
   ],
   "source": [
    "print(\"COMIENZA EL ENTRENAMIENTO...\")\n",
    "historial = model.fit(x_scaled, y_scaled, epochs=30, batch_size = 32, verbose=True)\n",
    "print(\"TERMINA EL ENTRENAMIENTO...\")"
   ]
  },
  {
   "cell_type": "code",
   "execution_count": 51,
   "metadata": {},
   "outputs": [
    {
     "data": {
      "text/plain": [
       "[<matplotlib.lines.Line2D at 0x176b1a8f680>]"
      ]
     },
     "execution_count": 51,
     "metadata": {},
     "output_type": "execute_result"
    },
    {
     "data": {
      "image/png": "[encoded data removed]",
      "text/plain": [
       "<Figure size 640x480 with 1 Axes>"
      ]
     },
     "metadata": {},
     "output_type": "display_data"
    }
   ],
   "source": [
    "plt.xlabel(\"# Epoca\")\n",
    "plt.ylabel(\"Loss magnitude\")\n",
    "plt.plot(historial.history[\"loss\"])"
   ]
  },
  {
   "cell_type": "code",
   "execution_count": 52,
   "metadata": {},
   "outputs": [
    {
     "name": "stdout",
     "output_type": "stream",
     "text": [
      "\u001b[1m690/690\u001b[0m \u001b[32m━━━━━━━━━━━━━━━━━━━━\u001b[0m\u001b[37m\u001b[0m \u001b[1m0s\u001b[0m 528us/step\n"
     ]
    }
   ],
   "source": [
    "prediction = scaler_y.inverse_transform(model.predict(np.stack(test_df[\"embedding\"].values))).flatten()\n",
    "realPrice = test_df['price'].to_numpy()"
   ]
  },
  {
   "cell_type": "code",
   "execution_count": 53,
   "metadata": {},
   "outputs": [
    {
     "name": "stdout",
     "output_type": "stream",
     "text": [
      "         Prediction  Real price\n",
      "0      23580.343750       46900\n",
      "1      23574.466797       29999\n",
      "2      23562.980469       20795\n",
      "3      23574.101562       24460\n",
      "4      23566.652344       21900\n",
      "...             ...         ...\n",
      "22074  23563.353516       14462\n",
      "22075  23570.429688       26490\n",
      "22076  23568.244141       22900\n",
      "22077  23581.535156       47900\n",
      "22078  23578.197266       42920\n",
      "\n",
      "[22079 rows x 2 columns]\n",
      "Hay un MAPE de 0.8218998834012647%\n"
     ]
    }
   ],
   "source": [
    "result = pd.DataFrame({'Prediction': prediction, 'Real price': realPrice})\n",
    "\n",
    "diff = np.mean(abs( (realPrice - prediction)/realPrice ))\n",
    "print(result)\n",
    "print(\"Hay un MAPE de \" + str(diff) + \"%\")\n",
    "plt.show()"
   ]
  }
 ],
 "metadata": {
  "kernelspec": {
   "display_name": "Python 3",
   "language": "python",
   "name": "python3"
  },
  "language_info": {
   "codemirror_mode": {
    "name": "ipython",
    "version": 3
   },
   "file_extension": ".py",
   "mimetype": "text/x-python",
   "name": "python",
   "nbconvert_exporter": "python",
   "pygments_lexer": "ipython3",
   "version": "3.12.4"
  }
 },
 "nbformat": 4,
 "nbformat_minor": 2
}
